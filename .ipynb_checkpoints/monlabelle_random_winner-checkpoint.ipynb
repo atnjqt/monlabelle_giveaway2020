{
 "cells": [
  {
   "cell_type": "markdown",
   "metadata": {},
   "source": [
    "## Random name generator for monlabelle"
   ]
  },
  {
   "cell_type": "code",
   "execution_count": 1,
   "metadata": {},
   "outputs": [],
   "source": [
    "import pandas as pd\n",
    "import os\n",
    "import random"
   ]
  },
  {
   "cell_type": "markdown",
   "metadata": {},
   "source": [
    "### Copy & pasted all comments on https://www.instagram.com/p/CJHCuPCDtku/ ..."
   ]
  },
  {
   "cell_type": "code",
   "execution_count": 2,
   "metadata": {},
   "outputs": [],
   "source": [
    "commenters = ['beeckalynn_',\n",
    "'megmcgrath',\n",
    "'anaramirezlee',\n",
    "'megmcgrath',\n",
    "'dyhcar',\n",
    "'ohhey_mel',\n",
    "'juliakotyla',\n",
    "'elisemghell',\n",
    "'gabycastillor',\n",
    "'julia__lymar',\n",
    "'bettiedeath',\n",
    "'americanwastoid',\n",
    "'fake_pc_whiteboy',\n",
    "'ramblingaries',\n",
    "'isabellatognini',\n",
    "'mariasowhat,'\n",
    "'cl___aire',\n",
    "'elisemghell',\n",
    "'rowanengelhardt',\n",
    "'ree_bah',\n",
    "'lilloandwillow',\n",
    "'ashleys_adventure',\n",
    "'king_______baby',\n",
    "'allisonjkasper']"
   ]
  },
  {
   "cell_type": "code",
   "execution_count": 3,
   "metadata": {},
   "outputs": [],
   "source": [
    "df = pd.DataFrame({'commenters':commenters})"
   ]
  },
  {
   "cell_type": "code",
   "execution_count": 4,
   "metadata": {},
   "outputs": [
    {
     "name": "stdout",
     "output_type": "stream",
     "text": [
      "MONLABELLE || RANDOM COMMENTER WINNER --> ramblingaries\n"
     ]
    }
   ],
   "source": [
    "print('MONLABELLE || RANDOM COMMENTER WINNER --> {}'.format(df.iloc[random.randint(0,df.shape[0]-1)].values[0]))"
   ]
  }
 ],
 "metadata": {
  "kernelspec": {
   "display_name": "Python 3",
   "language": "python",
   "name": "python3"
  },
  "language_info": {
   "codemirror_mode": {
    "name": "ipython",
    "version": 3
   },
   "file_extension": ".py",
   "mimetype": "text/x-python",
   "name": "python",
   "nbconvert_exporter": "python",
   "pygments_lexer": "ipython3",
   "version": "3.7.4"
  }
 },
 "nbformat": 4,
 "nbformat_minor": 2
}
